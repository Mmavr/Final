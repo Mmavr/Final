{
 "cells": [
  {
   "cell_type": "markdown",
   "id": "noble-dietary",
   "metadata": {},
   "source": [
    "## Experiment 12: Both Visual Analysis based on Pretrained CNN features"
   ]
  },
  {
   "cell_type": "markdown",
   "id": "greater-gospel",
   "metadata": {},
   "source": [
    "Import modules"
   ]
  },
  {
   "cell_type": "code",
   "execution_count": 1,
   "id": "vital-sculpture",
   "metadata": {},
   "outputs": [],
   "source": [
    "%matplotlib inline\n",
    "import os\n",
    "import numpy as np\n",
    "import pandas as pd\n",
    "import pickle"
   ]
  },
  {
   "cell_type": "code",
   "execution_count": 2,
   "id": "portuguese-democrat",
   "metadata": {},
   "outputs": [
    {
     "data": {
      "text/html": [
       "<div>\n",
       "<style scoped>\n",
       "    .dataframe tbody tr th:only-of-type {\n",
       "        vertical-align: middle;\n",
       "    }\n",
       "\n",
       "    .dataframe tbody tr th {\n",
       "        vertical-align: top;\n",
       "    }\n",
       "\n",
       "    .dataframe thead th {\n",
       "        text-align: right;\n",
       "    }\n",
       "</style>\n",
       "<table border=\"1\" class=\"dataframe\">\n",
       "  <thead>\n",
       "    <tr style=\"text-align: right;\">\n",
       "      <th></th>\n",
       "      <th>URL</th>\n",
       "      <th>Total Interactions</th>\n",
       "      <th>image_dir</th>\n",
       "      <th>image_path</th>\n",
       "    </tr>\n",
       "  </thead>\n",
       "  <tbody>\n",
       "    <tr>\n",
       "      <th>0</th>\n",
       "      <td>https://www.facebook.com/293834325961/posts/10...</td>\n",
       "      <td>2</td>\n",
       "      <td>Datasets/ingr/images/</td>\n",
       "      <td>Datasets/ingr/images/10159636104980962.jpg</td>\n",
       "    </tr>\n",
       "    <tr>\n",
       "      <th>1</th>\n",
       "      <td>https://www.facebook.com/293834325961/posts/10...</td>\n",
       "      <td>2</td>\n",
       "      <td>Datasets/ingr/images/</td>\n",
       "      <td>Datasets/ingr/images/10159636289825962.jpg</td>\n",
       "    </tr>\n",
       "    <tr>\n",
       "      <th>2</th>\n",
       "      <td>https://www.facebook.com/293834325961/posts/10...</td>\n",
       "      <td>28</td>\n",
       "      <td>Datasets/ingr/images/</td>\n",
       "      <td>Datasets/ingr/images/10159635983895962.jpg</td>\n",
       "    </tr>\n",
       "    <tr>\n",
       "      <th>3</th>\n",
       "      <td>https://www.facebook.com/293834325961/posts/10...</td>\n",
       "      <td>10</td>\n",
       "      <td>Datasets/ingr/images/</td>\n",
       "      <td>Datasets/ingr/images/10159635136250962.jpg</td>\n",
       "    </tr>\n",
       "    <tr>\n",
       "      <th>4</th>\n",
       "      <td>https://www.facebook.com/293834325961/posts/10...</td>\n",
       "      <td>7</td>\n",
       "      <td>Datasets/ingr/images/</td>\n",
       "      <td>Datasets/ingr/images/10159635038980962.jpg</td>\n",
       "    </tr>\n",
       "    <tr>\n",
       "      <th>...</th>\n",
       "      <td>...</td>\n",
       "      <td>...</td>\n",
       "      <td>...</td>\n",
       "      <td>...</td>\n",
       "    </tr>\n",
       "    <tr>\n",
       "      <th>1026</th>\n",
       "      <td>https://www.facebook.com/184884834877395/posts...</td>\n",
       "      <td>0</td>\n",
       "      <td>Datasets/tovima/images/</td>\n",
       "      <td>Datasets/tovima/images/4394677827231387.jpg</td>\n",
       "    </tr>\n",
       "    <tr>\n",
       "      <th>1027</th>\n",
       "      <td>https://www.facebook.com/184884834877395/posts...</td>\n",
       "      <td>7</td>\n",
       "      <td>Datasets/tovima/images/</td>\n",
       "      <td>Datasets/tovima/images/4393836503982186.jpg</td>\n",
       "    </tr>\n",
       "    <tr>\n",
       "      <th>1028</th>\n",
       "      <td>https://www.facebook.com/184884834877395/posts...</td>\n",
       "      <td>1</td>\n",
       "      <td>Datasets/tovima/images/</td>\n",
       "      <td>Datasets/tovima/images/4394137847285385.jpg</td>\n",
       "    </tr>\n",
       "    <tr>\n",
       "      <th>1029</th>\n",
       "      <td>https://www.facebook.com/184884834877395/posts...</td>\n",
       "      <td>1</td>\n",
       "      <td>Datasets/tovima/images/</td>\n",
       "      <td>Datasets/tovima/images/4392883707410799.jpg</td>\n",
       "    </tr>\n",
       "    <tr>\n",
       "      <th>1030</th>\n",
       "      <td>https://www.facebook.com/184884834877395/posts...</td>\n",
       "      <td>0</td>\n",
       "      <td>Datasets/tovima/images/</td>\n",
       "      <td>Datasets/tovima/images/4393992957299874.jpg</td>\n",
       "    </tr>\n",
       "  </tbody>\n",
       "</table>\n",
       "<p>1031 rows × 4 columns</p>\n",
       "</div>"
      ],
      "text/plain": [
       "                                                    URL  Total Interactions  \\\n",
       "0     https://www.facebook.com/293834325961/posts/10...                   2   \n",
       "1     https://www.facebook.com/293834325961/posts/10...                   2   \n",
       "2     https://www.facebook.com/293834325961/posts/10...                  28   \n",
       "3     https://www.facebook.com/293834325961/posts/10...                  10   \n",
       "4     https://www.facebook.com/293834325961/posts/10...                   7   \n",
       "...                                                 ...                 ...   \n",
       "1026  https://www.facebook.com/184884834877395/posts...                   0   \n",
       "1027  https://www.facebook.com/184884834877395/posts...                   7   \n",
       "1028  https://www.facebook.com/184884834877395/posts...                   1   \n",
       "1029  https://www.facebook.com/184884834877395/posts...                   1   \n",
       "1030  https://www.facebook.com/184884834877395/posts...                   0   \n",
       "\n",
       "                    image_dir                                   image_path  \n",
       "0       Datasets/ingr/images/   Datasets/ingr/images/10159636104980962.jpg  \n",
       "1       Datasets/ingr/images/   Datasets/ingr/images/10159636289825962.jpg  \n",
       "2       Datasets/ingr/images/   Datasets/ingr/images/10159635983895962.jpg  \n",
       "3       Datasets/ingr/images/   Datasets/ingr/images/10159635136250962.jpg  \n",
       "4       Datasets/ingr/images/   Datasets/ingr/images/10159635038980962.jpg  \n",
       "...                       ...                                          ...  \n",
       "1026  Datasets/tovima/images/  Datasets/tovima/images/4394677827231387.jpg  \n",
       "1027  Datasets/tovima/images/  Datasets/tovima/images/4393836503982186.jpg  \n",
       "1028  Datasets/tovima/images/  Datasets/tovima/images/4394137847285385.jpg  \n",
       "1029  Datasets/tovima/images/  Datasets/tovima/images/4392883707410799.jpg  \n",
       "1030  Datasets/tovima/images/  Datasets/tovima/images/4393992957299874.jpg  \n",
       "\n",
       "[1031 rows x 4 columns]"
      ]
     },
     "execution_count": 2,
     "metadata": {},
     "output_type": "execute_result"
    }
   ],
   "source": [
    "# Load the csv file containing the posts\n",
    "# Use only \"URL\" and \"Total Interactions\" columns\n",
    "ingr_posts_df = pd.read_csv(\"Datasets/ingr/ingr.csv\",\n",
    "                            usecols=[\"URL\", \"Total Interactions\"])[\n",
    "    [\"URL\", \"Total Interactions\"]]\n",
    "ingr_posts_df[\"image_dir\"] = \"Datasets/ingr/images/\"  # Path to where your images are\n",
    "\n",
    "tovima_posts_df = pd.read_csv(\"Datasets/tovima/tovima.csv\",\n",
    "                              usecols=[\"URL\", \"Total Interactions\"]).head(522)[\n",
    "    [\"URL\", \"Total Interactions\"]]\n",
    "tovima_posts_df[\"image_dir\"] = \"Datasets/tovima/images/\"  # Path to where your images are\n",
    "\n",
    "# Combine the two dataframes into a single one\n",
    "posts_df = pd.concat([ingr_posts_df, tovima_posts_df], ignore_index=True)\n",
    "\n",
    "# Create a column storing the image path of each post\n",
    "posts_df['image_path'] = posts_df.apply(\n",
    "    lambda x: x[\"image_dir\"] + x[\"URL\"].split(\"/\")[-1].strip() + \".jpg\", axis=1)\n",
    "\n",
    "# Drop rows with missing values values\n",
    "posts_df = posts_df.dropna().reset_index(drop=True)\n",
    "\n",
    "# Filter out rows with \"Total Interactions\" values below 0.05 quantile and above 0.95 quantile\n",
    "posts_df = posts_df.loc[(posts_df[\"Total Interactions\"] >= posts_df[\n",
    "    \"Total Interactions\"].quantile(.05)) & (posts_df[\"Total Interactions\"] <= posts_df[\n",
    "    \"Total Interactions\"].quantile(.95))].reset_index(drop=True)\n",
    "posts_df"
   ]
  },
  {
   "cell_type": "code",
   "execution_count": 3,
   "id": "extreme-portuguese",
   "metadata": {},
   "outputs": [
    {
     "name": "stdout",
     "output_type": "stream",
     "text": [
      "image: Datasets/ingr/images/10159636104980962.jpg, features: -3.68,9.63,-15.86,-0.96... \n",
      "image: Datasets/ingr/images/10159636289825962.jpg, features: -9.69,-15.59,16.11,7.38... \n",
      "image: Datasets/ingr/images/10159635983895962.jpg, features: -19.34,-3.35,4.28,1.27... \n",
      "image: Datasets/ingr/images/10159635136250962.jpg, features: -11.44,10.00,1.33,0.95... \n",
      "image: Datasets/ingr/images/10159635038980962.jpg, features: -13.94,-9.00,-19.19,0.74... \n"
     ]
    }
   ],
   "source": [
    "images, pca_features, pca = pickle.load(open('features_posts.p', 'rb'))\n",
    "\n",
    "for img, f in list(zip(images, pca_features))[0:5]:\n",
    "    print(\"image: %s, features: %0.2f,%0.2f,%0.2f,%0.2f... \"%(img, f[0], f[1], f[2], f[3]))"
   ]
  },
  {
   "cell_type": "code",
   "execution_count": 4,
   "id": "copyrighted-serbia",
   "metadata": {},
   "outputs": [
    {
     "data": {
      "text/plain": [
       "(1031, 300)"
      ]
     },
     "execution_count": 4,
     "metadata": {},
     "output_type": "execute_result"
    }
   ],
   "source": [
    "pca_features.shape"
   ]
  },
  {
   "cell_type": "code",
   "execution_count": 5,
   "id": "powerful-guess",
   "metadata": {},
   "outputs": [],
   "source": [
    "from sklearn.model_selection import train_test_split\n",
    "from sklearn.linear_model import LinearRegression, LogisticRegression\n",
    "from sklearn.neighbors import KNeighborsRegressor, KNeighborsClassifier\n",
    "from sklearn.ensemble import RandomForestRegressor, RandomForestClassifier\n",
    "from sklearn import metrics"
   ]
  },
  {
   "cell_type": "code",
   "execution_count": 6,
   "id": "terminal-disorder",
   "metadata": {},
   "outputs": [],
   "source": [
    "X_train, X_test, y_train, y_test = train_test_split(pca_features, posts_df['Total Interactions'], test_size=0.25, random_state=42)"
   ]
  },
  {
   "cell_type": "code",
   "execution_count": 7,
   "id": "distinguished-infrastructure",
   "metadata": {},
   "outputs": [
    {
     "name": "stdout",
     "output_type": "stream",
     "text": [
      "r2_score: -1.0485336075612404\n",
      "MAE: 12.349688934725384\n",
      "MSE: 347.88904080545086\n"
     ]
    }
   ],
   "source": [
    "# Train and test the LinearRegression model\n",
    "lin_reg = LinearRegression().fit(X_train, y_train)\n",
    "pred_y = lin_reg.predict(X_test)\n",
    "\n",
    "print('r2_score:', metrics.r2_score(y_test, pred_y))\n",
    "print('MAE:', metrics.mean_absolute_error(y_test, pred_y))\n",
    "print('MSE:', metrics.mean_squared_error(y_test, pred_y))"
   ]
  },
  {
   "cell_type": "code",
   "execution_count": 8,
   "id": "boxed-consortium",
   "metadata": {},
   "outputs": [
    {
     "name": "stdout",
     "output_type": "stream",
     "text": [
      "r2_score: -0.18123405538224602\n",
      "MAE: 8.711627906976746\n",
      "MSE: 200.60124031007754\n"
     ]
    }
   ],
   "source": [
    "# Train and test the KNeighborsRegressor model\n",
    "kn_reg = KNeighborsRegressor().fit(X_train, y_train)\n",
    "pred_y = kn_reg.predict(X_test)\n",
    "\n",
    "print('r2_score:', metrics.r2_score(y_test, pred_y))\n",
    "print('MAE:', metrics.mean_absolute_error(y_test, pred_y))\n",
    "print('MSE:', metrics.mean_squared_error(y_test, pred_y))"
   ]
  },
  {
   "cell_type": "code",
   "execution_count": 9,
   "id": "established-absolute",
   "metadata": {},
   "outputs": [
    {
     "name": "stdout",
     "output_type": "stream",
     "text": [
      "r2_score: -0.17983951247219676\n",
      "MAE: 8.943713231751023\n",
      "MSE: 200.36441422455547\n"
     ]
    }
   ],
   "source": [
    "# Train and test the RandomForestRegressor model\n",
    "rf_reg = RandomForestRegressor(n_estimators=200).fit(X_train, y_train)\n",
    "pred_y = rf_reg.predict(X_test)\n",
    "\n",
    "print('r2_score:', metrics.r2_score(y_test, pred_y))\n",
    "print('MAE:', metrics.mean_absolute_error(y_test, pred_y))\n",
    "print('MSE:', metrics.mean_squared_error(y_test, pred_y))"
   ]
  },
  {
   "cell_type": "code",
   "execution_count": null,
   "id": "digital-suicide",
   "metadata": {},
   "outputs": [],
   "source": []
  },
  {
   "cell_type": "code",
   "execution_count": 10,
   "id": "solved-curve",
   "metadata": {},
   "outputs": [],
   "source": [
    "# For classification, we consider 2 categories:\n",
    "#   -Class 0: posts with \"Total Interactions\" below the column's median\n",
    "#   -Class 1: posts with \"Total Interactions\" above the column's median\n",
    "\n",
    "median = y_train.median()\n",
    "\n",
    "y_train = y_train.apply(lambda x: int(x > median))\n",
    "y_test = y_test.apply(lambda x: int(x > median))"
   ]
  },
  {
   "cell_type": "code",
   "execution_count": 11,
   "id": "dental-greek",
   "metadata": {},
   "outputs": [
    {
     "name": "stdout",
     "output_type": "stream",
     "text": [
      "accuracy: 0.5271317829457365\n",
      "classification_report:\n",
      "               precision    recall  f1-score   support\n",
      "\n",
      "           0       0.59      0.54      0.56       145\n",
      "           1       0.46      0.51      0.49       113\n",
      "\n",
      "    accuracy                           0.53       258\n",
      "   macro avg       0.53      0.53      0.52       258\n",
      "weighted avg       0.53      0.53      0.53       258\n",
      "\n"
     ]
    }
   ],
   "source": [
    "# Train and test the LogisticRegression model\n",
    "lr_clf = LogisticRegression(solver='lbfgs', max_iter=250).fit(X_train, y_train)\n",
    "pred_y = lr_clf.predict(X_test)\n",
    "\n",
    "print('accuracy:', metrics.accuracy_score(y_test, pred_y))\n",
    "print('classification_report:\\n', metrics.classification_report(y_test, pred_y))"
   ]
  },
  {
   "cell_type": "code",
   "execution_count": 12,
   "id": "roman-floor",
   "metadata": {},
   "outputs": [
    {
     "name": "stdout",
     "output_type": "stream",
     "text": [
      "accuracy: 0.5387596899224806\n",
      "classification_report:\n",
      "               precision    recall  f1-score   support\n",
      "\n",
      "           0       0.59      0.57      0.58       145\n",
      "           1       0.47      0.50      0.48       113\n",
      "\n",
      "    accuracy                           0.54       258\n",
      "   macro avg       0.53      0.53      0.53       258\n",
      "weighted avg       0.54      0.54      0.54       258\n",
      "\n"
     ]
    }
   ],
   "source": [
    "# Train and test the KNeighborsClassifier model\n",
    "kn_clf = KNeighborsClassifier().fit(X_train, y_train)\n",
    "pred_y = kn_clf.predict(X_test)\n",
    "\n",
    "print('accuracy:', metrics.accuracy_score(y_test, pred_y))\n",
    "print('classification_report:\\n', metrics.classification_report(y_test, pred_y))"
   ]
  },
  {
   "cell_type": "code",
   "execution_count": 13,
   "id": "ideal-tractor",
   "metadata": {},
   "outputs": [
    {
     "name": "stdout",
     "output_type": "stream",
     "text": [
      "accuracy: 0.5581395348837209\n",
      "classification_report:\n",
      "               precision    recall  f1-score   support\n",
      "\n",
      "           0       0.58      0.81      0.67       145\n",
      "           1       0.49      0.24      0.32       113\n",
      "\n",
      "    accuracy                           0.56       258\n",
      "   macro avg       0.53      0.52      0.50       258\n",
      "weighted avg       0.54      0.56      0.52       258\n",
      "\n"
     ]
    }
   ],
   "source": [
    "# Train and test the RandomForestClassifier model\n",
    "rf_clf = RandomForestClassifier(n_estimators=200).fit(X_train, y_train)\n",
    "pred_y = rf_clf.predict(X_test)\n",
    "\n",
    "print('accuracy:', metrics.accuracy_score(y_test, pred_y))\n",
    "print('classification_report:\\n', metrics.classification_report(y_test, pred_y))"
   ]
  },
  {
   "cell_type": "code",
   "execution_count": null,
   "id": "lucky-married",
   "metadata": {},
   "outputs": [],
   "source": []
  }
 ],
 "metadata": {
  "kernelspec": {
   "display_name": "Python 3 (ipykernel)",
   "language": "python",
   "name": "python3"
  },
  "language_info": {
   "codemirror_mode": {
    "name": "ipython",
    "version": 3
   },
   "file_extension": ".py",
   "mimetype": "text/x-python",
   "name": "python",
   "nbconvert_exporter": "python",
   "pygments_lexer": "ipython3",
   "version": "3.10.4"
  }
 },
 "nbformat": 4,
 "nbformat_minor": 5
}
