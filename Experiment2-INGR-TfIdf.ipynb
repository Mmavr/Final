{
 "cells": [
  {
   "cell_type": "markdown",
   "id": "sexual-inventory",
   "metadata": {},
   "source": [
    "## Experiment 2: INGR Tf-Idf\n",
    "\n",
    "Analyze the posts text using Tf-Idf features."
   ]
  },
  {
   "cell_type": "markdown",
   "id": "dangerous-professional",
   "metadata": {},
   "source": [
    "Import modules"
   ]
  },
  {
   "cell_type": "code",
   "execution_count": 1,
   "id": "alone-paper",
   "metadata": {},
   "outputs": [],
   "source": [
    "import pandas as pd\n",
    "import matplotlib.pyplot as plt\n",
    "\n",
    "# Load a greek spaCy model for nlp\n",
    "import spacy\n",
    "nlp = spacy.load(\"el_core_news_sm\")\n",
    "\n",
    "from sklearn.model_selection import train_test_split\n",
    "from sklearn.feature_extraction.text import TfidfVectorizer\n",
    "from sklearn.linear_model import LinearRegression, LogisticRegression\n",
    "from sklearn.neighbors import KNeighborsRegressor, KNeighborsClassifier\n",
    "from sklearn.ensemble import RandomForestRegressor, RandomForestClassifier\n",
    "from sklearn import metrics"
   ]
  },
  {
   "cell_type": "markdown",
   "id": "lucky-artist",
   "metadata": {},
   "source": [
    "Load and cleanup the data file"
   ]
  },
  {
   "cell_type": "code",
   "execution_count": 2,
   "id": "primary-colombia",
   "metadata": {},
   "outputs": [
    {
     "data": {
      "text/html": [
       "<div>\n",
       "<style scoped>\n",
       "    .dataframe tbody tr th:only-of-type {\n",
       "        vertical-align: middle;\n",
       "    }\n",
       "\n",
       "    .dataframe tbody tr th {\n",
       "        vertical-align: top;\n",
       "    }\n",
       "\n",
       "    .dataframe thead th {\n",
       "        text-align: right;\n",
       "    }\n",
       "</style>\n",
       "<table border=\"1\" class=\"dataframe\">\n",
       "  <thead>\n",
       "    <tr style=\"text-align: right;\">\n",
       "      <th></th>\n",
       "      <th>URL</th>\n",
       "      <th>Link Text</th>\n",
       "      <th>Total Interactions</th>\n",
       "    </tr>\n",
       "  </thead>\n",
       "  <tbody>\n",
       "    <tr>\n",
       "      <th>0</th>\n",
       "      <td>https://www.facebook.com/293834325961/posts/10...</td>\n",
       "      <td>Προσοχή! Έτσι θα καταλάβετε ποιος χρησιμοποιεί...</td>\n",
       "      <td>2</td>\n",
       "    </tr>\n",
       "    <tr>\n",
       "      <th>1</th>\n",
       "      <td>https://www.facebook.com/293834325961/posts/10...</td>\n",
       "      <td>Emoji : Η συντριπτική πλειοψηφία των χρηστών ε...</td>\n",
       "      <td>2</td>\n",
       "    </tr>\n",
       "    <tr>\n",
       "      <th>2</th>\n",
       "      <td>https://www.facebook.com/293834325961/posts/10...</td>\n",
       "      <td>\"Μεσήλικες που κοιμούνται έξι ώρες ή λιγότερο ...</td>\n",
       "      <td>28</td>\n",
       "    </tr>\n",
       "    <tr>\n",
       "      <th>3</th>\n",
       "      <td>https://www.facebook.com/293834325961/posts/10...</td>\n",
       "      <td>Εμβόλιο Covid-19: Πόσο πιθανό είναι να εμφανίσ...</td>\n",
       "      <td>10</td>\n",
       "    </tr>\n",
       "    <tr>\n",
       "      <th>4</th>\n",
       "      <td>https://www.facebook.com/293834325961/posts/10...</td>\n",
       "      <td>Κοροναϊός: Νέο τεστ προβλέπει ποιοι θα νοσήσου...</td>\n",
       "      <td>7</td>\n",
       "    </tr>\n",
       "    <tr>\n",
       "      <th>...</th>\n",
       "      <td>...</td>\n",
       "      <td>...</td>\n",
       "      <td>...</td>\n",
       "    </tr>\n",
       "    <tr>\n",
       "      <th>530</th>\n",
       "      <td>https://www.facebook.com/293834325961/posts/10...</td>\n",
       "      <td>Η Άννα Μαρία Βέλλη «κάρφωσε» την παραγωγή του ...</td>\n",
       "      <td>21</td>\n",
       "    </tr>\n",
       "    <tr>\n",
       "      <th>531</th>\n",
       "      <td>https://www.facebook.com/293834325961/posts/10...</td>\n",
       "      <td>Your Face Sounds Familiar: Η απίστευτη μεταμόρ...</td>\n",
       "      <td>5</td>\n",
       "    </tr>\n",
       "    <tr>\n",
       "      <th>532</th>\n",
       "      <td>https://www.facebook.com/293834325961/posts/10...</td>\n",
       "      <td>Παύλος Γαλακτερός: Η πρώτη ανάρτηση μετά την α...</td>\n",
       "      <td>4</td>\n",
       "    </tr>\n",
       "    <tr>\n",
       "      <th>533</th>\n",
       "      <td>https://www.facebook.com/293834325961/posts/10...</td>\n",
       "      <td>Survivor: «Δελφίνι θέλουν τα κορίτσια;\" Δελφίν...</td>\n",
       "      <td>0</td>\n",
       "    </tr>\n",
       "    <tr>\n",
       "      <th>534</th>\n",
       "      <td>https://www.facebook.com/293834325961/posts/10...</td>\n",
       "      <td>\"Eξέγερση στο Survivor: Τι ζήτησαν οι παίκτες</td>\n",
       "      <td>4</td>\n",
       "    </tr>\n",
       "  </tbody>\n",
       "</table>\n",
       "<p>535 rows × 3 columns</p>\n",
       "</div>"
      ],
      "text/plain": [
       "                                                   URL  \\\n",
       "0    https://www.facebook.com/293834325961/posts/10...   \n",
       "1    https://www.facebook.com/293834325961/posts/10...   \n",
       "2    https://www.facebook.com/293834325961/posts/10...   \n",
       "3    https://www.facebook.com/293834325961/posts/10...   \n",
       "4    https://www.facebook.com/293834325961/posts/10...   \n",
       "..                                                 ...   \n",
       "530  https://www.facebook.com/293834325961/posts/10...   \n",
       "531  https://www.facebook.com/293834325961/posts/10...   \n",
       "532  https://www.facebook.com/293834325961/posts/10...   \n",
       "533  https://www.facebook.com/293834325961/posts/10...   \n",
       "534  https://www.facebook.com/293834325961/posts/10...   \n",
       "\n",
       "                                             Link Text  Total Interactions  \n",
       "0    Προσοχή! Έτσι θα καταλάβετε ποιος χρησιμοποιεί...                   2  \n",
       "1    Emoji : Η συντριπτική πλειοψηφία των χρηστών ε...                   2  \n",
       "2    \"Μεσήλικες που κοιμούνται έξι ώρες ή λιγότερο ...                  28  \n",
       "3    Εμβόλιο Covid-19: Πόσο πιθανό είναι να εμφανίσ...                  10  \n",
       "4    Κοροναϊός: Νέο τεστ προβλέπει ποιοι θα νοσήσου...                   7  \n",
       "..                                                 ...                 ...  \n",
       "530  Η Άννα Μαρία Βέλλη «κάρφωσε» την παραγωγή του ...                  21  \n",
       "531  Your Face Sounds Familiar: Η απίστευτη μεταμόρ...                   5  \n",
       "532  Παύλος Γαλακτερός: Η πρώτη ανάρτηση μετά την α...                   4  \n",
       "533  Survivor: «Δελφίνι θέλουν τα κορίτσια;\" Δελφίν...                   0  \n",
       "534      \"Eξέγερση στο Survivor: Τι ζήτησαν οι παίκτες                   4  \n",
       "\n",
       "[535 rows x 3 columns]"
      ]
     },
     "execution_count": 2,
     "metadata": {},
     "output_type": "execute_result"
    }
   ],
   "source": [
    "# Load the csv file containing the posts\n",
    "# Use only \"URL\", \"Link Text\" and \"Total Interactions\" columns\n",
    "posts_df = pd.read_csv(\"Datasets/ingr/ingr.csv\",\n",
    "                       usecols=[\"URL\", \"Link Text\", \"Total Interactions\"])[\n",
    "    [\"URL\", \"Link Text\", \"Total Interactions\"]]\n",
    "\n",
    "# Remove the \" | in.gr\" suffix from the \"Link Text\" column\n",
    "posts_df[\"Link Text\"] = posts_df[\"Link Text\"].apply(\n",
    "    lambda x: x[:-len(\" | in.gr\")] if x.endswith(\" | in.gr\") else x)\n",
    "\n",
    "# Drop rows with missing values values\n",
    "posts_df = posts_df.dropna().reset_index(drop=True)\n",
    "\n",
    "# Filter out rows with \"Total Interactions\" values below 0.05 quantile and above 0.95 quantile\n",
    "posts_df = posts_df.loc[(posts_df[\"Total Interactions\"] >= posts_df[\n",
    "    \"Total Interactions\"].quantile(.05)) & (posts_df[\"Total Interactions\"] <= posts_df[\n",
    "    \"Total Interactions\"].quantile(.95))].reset_index(drop=True)\n",
    "posts_df"
   ]
  },
  {
   "cell_type": "markdown",
   "id": "listed-background",
   "metadata": {},
   "source": [
    "Split dataset to train and test subsets"
   ]
  },
  {
   "cell_type": "code",
   "execution_count": 3,
   "id": "laughing-atlas",
   "metadata": {},
   "outputs": [],
   "source": [
    "train_df, test_df = train_test_split(posts_df, test_size=0.25, random_state=42)"
   ]
  },
  {
   "cell_type": "markdown",
   "id": "wicked-trustee",
   "metadata": {},
   "source": [
    "Tf-Idf vectorizer"
   ]
  },
  {
   "cell_type": "code",
   "execution_count": 4,
   "id": "seven-mining",
   "metadata": {},
   "outputs": [],
   "source": [
    "# https://scikit-learn.org/stable/modules/generated/sklearn.feature_extraction.text.TfidfVectorizer.html\n",
    "# Remove greek stopwords using spaCy\n",
    "vec = TfidfVectorizer(stop_words=spacy.lang.el.stop_words.STOP_WORDS)\n",
    "\n",
    "train_x = vec.fit_transform(train_df[\"Link Text\"])\n",
    "train_x = pd.DataFrame(train_x.toarray(), columns=vec.get_feature_names())\n",
    "\n",
    "test_x = vec.transform(test_df[\"Link Text\"])\n",
    "test_x = pd.DataFrame(test_x.toarray(), columns=vec.get_feature_names())"
   ]
  },
  {
   "cell_type": "markdown",
   "id": "fewer-signal",
   "metadata": {},
   "source": [
    "Regression problem"
   ]
  },
  {
   "cell_type": "code",
   "execution_count": 5,
   "id": "foreign-idaho",
   "metadata": {},
   "outputs": [
    {
     "data": {
      "image/png": "[encoded data removed]",
      "text/plain": [
       "<Figure size 1008x504 with 1 Axes>"
      ]
     },
     "metadata": {
      "needs_background": "light"
     },
     "output_type": "display_data"
    }
   ],
   "source": [
    "train_y = train_df[\"Total Interactions\"]\n",
    "test_y = test_df[\"Total Interactions\"]\n",
    "\n",
    "# Plot how the column we will be predicting looks like\n",
    "train_df[\"Total Interactions\"].hist(figsize=(14, 7), bins=50)\n",
    "plt.show()"
   ]
  },
  {
   "cell_type": "code",
   "execution_count": 6,
   "id": "pressing-knight",
   "metadata": {},
   "outputs": [
    {
     "name": "stdout",
     "output_type": "stream",
     "text": [
      "r2_score: -1.8472009935279843e+23\n",
      "MAE: 7304867660597.809\n",
      "MSE: 1.1872981087222904e+26\n"
     ]
    }
   ],
   "source": [
    "# Train and test the LinearRegression model\n",
    "lin_reg = LinearRegression().fit(train_x, train_y)\n",
    "pred_y = lin_reg.predict(test_x)\n",
    "\n",
    "print('r2_score:', metrics.r2_score(test_y, pred_y))\n",
    "print('MAE:', metrics.mean_absolute_error(test_y, pred_y))\n",
    "print('MSE:', metrics.mean_squared_error(test_y, pred_y))"
   ]
  },
  {
   "cell_type": "code",
   "execution_count": 7,
   "id": "forty-bernard",
   "metadata": {},
   "outputs": [
    {
     "name": "stdout",
     "output_type": "stream",
     "text": [
      "r2_score: -0.2481183865301977\n",
      "MAE: 18.155223880597013\n",
      "MSE: 802.2346268656717\n"
     ]
    }
   ],
   "source": [
    "# Train and test the KNeighborsRegressor model\n",
    "kn_reg = KNeighborsRegressor().fit(train_x, train_y)\n",
    "pred_y = kn_reg.predict(test_x)\n",
    "\n",
    "print('r2_score:', metrics.r2_score(test_y, pred_y))\n",
    "print('MAE:', metrics.mean_absolute_error(test_y, pred_y))\n",
    "print('MSE:', metrics.mean_squared_error(test_y, pred_y))"
   ]
  },
  {
   "cell_type": "code",
   "execution_count": 8,
   "id": "diagnostic-battery",
   "metadata": {},
   "outputs": [
    {
     "name": "stdout",
     "output_type": "stream",
     "text": [
      "r2_score: -0.15872625833246934\n",
      "MAE: 16.271199004975124\n",
      "MSE: 744.7773684970979\n"
     ]
    }
   ],
   "source": [
    "# Train and test the RandomForestRegressor model\n",
    "rf_reg = RandomForestRegressor(n_estimators=200).fit(train_x, train_y)\n",
    "pred_y = rf_reg.predict(test_x)\n",
    "\n",
    "print('r2_score:', metrics.r2_score(test_y, pred_y))\n",
    "print('MAE:', metrics.mean_absolute_error(test_y, pred_y))\n",
    "print('MSE:', metrics.mean_squared_error(test_y, pred_y))"
   ]
  },
  {
   "cell_type": "code",
   "execution_count": 9,
   "id": "opposed-diamond",
   "metadata": {},
   "outputs": [
    {
     "data": {
      "text/plain": [
       "δύο             0.079736\n",
       "30χρονη         0.042989\n",
       "φωτογραφία      0.039335\n",
       "ανάρτηση        0.031752\n",
       "ιωάννα          0.019736\n",
       "                  ...   \n",
       "ήπειρος         0.000000\n",
       "εξελίξεις       0.000000\n",
       "ηλιοθεραπεία    0.000000\n",
       "γέμισαν         0.000000\n",
       "φύγει           0.000000\n",
       "Length: 1741, dtype: float64"
      ]
     },
     "execution_count": 9,
     "metadata": {},
     "output_type": "execute_result"
    }
   ],
   "source": [
    "# Show features importances\n",
    "important_features = pd.Series(data=rf_reg.feature_importances_, index=train_x.columns)\n",
    "important_features.sort_values(ascending=False, inplace=True)\n",
    "important_features.astype(float)"
   ]
  },
  {
   "cell_type": "markdown",
   "id": "injured-travel",
   "metadata": {},
   "source": [
    "Classification problem"
   ]
  },
  {
   "cell_type": "code",
   "execution_count": 10,
   "id": "stone-south",
   "metadata": {},
   "outputs": [
    {
     "data": {
      "image/png": "[encoded data removed]",
      "text/plain": [
       "<Figure size 432x288 with 1 Axes>"
      ]
     },
     "metadata": {
      "needs_background": "light"
     },
     "output_type": "display_data"
    }
   ],
   "source": [
    "# For classification, we consider 2 categories:\n",
    "#   -Class 0: posts with \"Total Interactions\" below the column's median\n",
    "#   -Class 1: posts with \"Total Interactions\" above the column's median\n",
    "\n",
    "median = train_df[\"Total Interactions\"].median()\n",
    "\n",
    "train_y = train_df[\"Total Interactions\"].apply(lambda x: int(x > median))\n",
    "test_y = test_df[\"Total Interactions\"].apply(lambda x: int(x > median))\n",
    "\n",
    "# Plot how the column we will be predicting looks like\n",
    "train_df[\"Total Interactions\"].apply(\n",
    "    lambda x: int(x > median)).value_counts().sort_values().plot(kind = 'barh')\n",
    "plt.show()"
   ]
  },
  {
   "cell_type": "code",
   "execution_count": 11,
   "id": "sapphire-norway",
   "metadata": {},
   "outputs": [
    {
     "name": "stdout",
     "output_type": "stream",
     "text": [
      "accuracy: 0.6716417910447762\n",
      "classification_report:\n",
      "               precision    recall  f1-score   support\n",
      "\n",
      "           0       0.66      0.87      0.75        77\n",
      "           1       0.70      0.40      0.51        57\n",
      "\n",
      "    accuracy                           0.67       134\n",
      "   macro avg       0.68      0.64      0.63       134\n",
      "weighted avg       0.68      0.67      0.65       134\n",
      "\n"
     ]
    }
   ],
   "source": [
    "# Train and test the LogisticRegression model\n",
    "lr_clf = LogisticRegression(solver='lbfgs').fit(train_x, train_y)\n",
    "pred_y = lr_clf.predict(test_x)\n",
    "\n",
    "print('accuracy:', metrics.accuracy_score(test_y, pred_y))\n",
    "print('classification_report:\\n', metrics.classification_report(test_y, pred_y))"
   ]
  },
  {
   "cell_type": "code",
   "execution_count": 12,
   "id": "forced-colleague",
   "metadata": {},
   "outputs": [
    {
     "name": "stdout",
     "output_type": "stream",
     "text": [
      "accuracy: 0.5447761194029851\n",
      "classification_report:\n",
      "               precision    recall  f1-score   support\n",
      "\n",
      "           0       0.66      0.43      0.52        77\n",
      "           1       0.48      0.70      0.57        57\n",
      "\n",
      "    accuracy                           0.54       134\n",
      "   macro avg       0.57      0.57      0.54       134\n",
      "weighted avg       0.58      0.54      0.54       134\n",
      "\n"
     ]
    }
   ],
   "source": [
    "# Train and test the KNeighborsClassifier model\n",
    "kn_clf = KNeighborsClassifier().fit(train_x, train_y)\n",
    "pred_y = kn_clf.predict(test_x)\n",
    "\n",
    "print('accuracy:', metrics.accuracy_score(test_y, pred_y))\n",
    "print('classification_report:\\n', metrics.classification_report(test_y, pred_y))"
   ]
  },
  {
   "cell_type": "code",
   "execution_count": 13,
   "id": "subsequent-lithuania",
   "metadata": {},
   "outputs": [
    {
     "name": "stdout",
     "output_type": "stream",
     "text": [
      "accuracy: 0.5746268656716418\n",
      "classification_report:\n",
      "               precision    recall  f1-score   support\n",
      "\n",
      "           0       0.76      0.38      0.50        77\n",
      "           1       0.50      0.84      0.63        57\n",
      "\n",
      "    accuracy                           0.57       134\n",
      "   macro avg       0.63      0.61      0.57       134\n",
      "weighted avg       0.65      0.57      0.56       134\n",
      "\n"
     ]
    }
   ],
   "source": [
    "# Train and test the RandomForestClassifier model\n",
    "rf_clf = RandomForestClassifier(n_estimators=200).fit(train_x, train_y)\n",
    "pred_y = rf_clf.predict(test_x)\n",
    "\n",
    "print('accuracy:', metrics.accuracy_score(test_y, pred_y))\n",
    "print('classification_report:\\n', metrics.classification_report(test_y, pred_y))"
   ]
  },
  {
   "cell_type": "code",
   "execution_count": 14,
   "id": "false-railway",
   "metadata": {},
   "outputs": [
    {
     "data": {
      "text/plain": [
       "survivor        0.016976\n",
       "κοροναϊό        0.014076\n",
       "κρατήσεις       0.007774\n",
       "μάιος           0.006745\n",
       "εμβόλιο         0.006229\n",
       "                  ...   \n",
       "σύζυγό          0.000000\n",
       "ηλιοθεραπεία    0.000000\n",
       "πεθάνω          0.000000\n",
       "βασιλόπουλος    0.000000\n",
       "αισιόδοξα       0.000000\n",
       "Length: 1741, dtype: float64"
      ]
     },
     "execution_count": 14,
     "metadata": {},
     "output_type": "execute_result"
    }
   ],
   "source": [
    "# Show features importances\n",
    "important_features = pd.Series(data=rf_clf.feature_importances_, index=train_x.columns)\n",
    "important_features.sort_values(ascending=False, inplace=True)\n",
    "important_features.astype(float)"
   ]
  },
  {
   "cell_type": "code",
   "execution_count": null,
   "id": "decent-desire",
   "metadata": {},
   "outputs": [],
   "source": []
  }
 ],
 "metadata": {
  "kernelspec": {
   "display_name": "env",
   "language": "python",
   "name": "env"
  },
  "language_info": {
   "codemirror_mode": {
    "name": "ipython",
    "version": 3
   },
   "file_extension": ".py",
   "mimetype": "text/x-python",
   "name": "python",
   "nbconvert_exporter": "python",
   "pygments_lexer": "ipython3",
   "version": "3.6.9"
  }
 },
 "nbformat": 4,
 "nbformat_minor": 5
}
