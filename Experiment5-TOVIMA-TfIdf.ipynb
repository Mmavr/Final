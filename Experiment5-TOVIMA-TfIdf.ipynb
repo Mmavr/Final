{
 "cells": [
  {
   "cell_type": "markdown",
   "id": "technical-history",
   "metadata": {},
   "source": [
    "## Experiment 5: TOVIMA Tf-Idf\n",
    "\n",
    "Analyze the posts text using Tf-Idf features."
   ]
  },
  {
   "cell_type": "markdown",
   "id": "residential-perspective",
   "metadata": {},
   "source": [
    "Import modules"
   ]
  },
  {
   "cell_type": "code",
   "execution_count": 1,
   "id": "spoken-induction",
   "metadata": {},
   "outputs": [],
   "source": [
    "import pandas as pd\n",
    "import matplotlib.pyplot as plt\n",
    "\n",
    "# Load a greek spaCy model for nlp\n",
    "import spacy\n",
    "nlp = spacy.load(\"el_core_news_sm\")\n",
    "\n",
    "from sklearn.model_selection import train_test_split\n",
    "from sklearn.feature_extraction.text import TfidfVectorizer\n",
    "from sklearn.linear_model import LinearRegression, LogisticRegression\n",
    "from sklearn.neighbors import KNeighborsRegressor, KNeighborsClassifier\n",
    "from sklearn.ensemble import RandomForestRegressor, RandomForestClassifier\n",
    "from sklearn import metrics"
   ]
  },
  {
   "cell_type": "markdown",
   "id": "adult-stake",
   "metadata": {},
   "source": [
    "Load and cleanup the data file"
   ]
  },
  {
   "cell_type": "code",
   "execution_count": 2,
   "id": "classical-commercial",
   "metadata": {},
   "outputs": [
    {
     "data": {
      "text/html": [
       "<div>\n",
       "<style scoped>\n",
       "    .dataframe tbody tr th:only-of-type {\n",
       "        vertical-align: middle;\n",
       "    }\n",
       "\n",
       "    .dataframe tbody tr th {\n",
       "        vertical-align: top;\n",
       "    }\n",
       "\n",
       "    .dataframe thead th {\n",
       "        text-align: right;\n",
       "    }\n",
       "</style>\n",
       "<table border=\"1\" class=\"dataframe\">\n",
       "  <thead>\n",
       "    <tr style=\"text-align: right;\">\n",
       "      <th></th>\n",
       "      <th>URL</th>\n",
       "      <th>Link Text</th>\n",
       "      <th>Total Interactions</th>\n",
       "    </tr>\n",
       "  </thead>\n",
       "  <tbody>\n",
       "    <tr>\n",
       "      <th>0</th>\n",
       "      <td>https://www.facebook.com/184884834877395/posts...</td>\n",
       "      <td>Οσιαν Βουόνγκ: Ο 33χρονος ποιητής που μαγεύει ...</td>\n",
       "      <td>0</td>\n",
       "    </tr>\n",
       "    <tr>\n",
       "      <th>1</th>\n",
       "      <td>https://www.facebook.com/184884834877395/posts...</td>\n",
       "      <td>Πώς ο ύπνος σχετίζεται με το έμφραγμα</td>\n",
       "      <td>0</td>\n",
       "    </tr>\n",
       "    <tr>\n",
       "      <th>2</th>\n",
       "      <td>https://www.facebook.com/184884834877395/posts...</td>\n",
       "      <td>Πόσο επικίνδυνη είναι η ινδική μετάλλαξη;</td>\n",
       "      <td>3</td>\n",
       "    </tr>\n",
       "    <tr>\n",
       "      <th>3</th>\n",
       "      <td>https://www.facebook.com/184884834877395/posts...</td>\n",
       "      <td>Μπουρλά: Ίσως εντός 2021 το χάπι για covid</td>\n",
       "      <td>3</td>\n",
       "    </tr>\n",
       "    <tr>\n",
       "      <th>4</th>\n",
       "      <td>https://www.facebook.com/184884834877395/posts...</td>\n",
       "      <td>Χριστίνα Χειλά Φαμέλη: Σοκάρει μιλώντας για τη...</td>\n",
       "      <td>0</td>\n",
       "    </tr>\n",
       "    <tr>\n",
       "      <th>...</th>\n",
       "      <td>...</td>\n",
       "      <td>...</td>\n",
       "      <td>...</td>\n",
       "    </tr>\n",
       "    <tr>\n",
       "      <th>491</th>\n",
       "      <td>https://www.facebook.com/184884834877395/posts...</td>\n",
       "      <td>Πού θα γίνονται δωρεάν rapid test την Τετάρτη</td>\n",
       "      <td>0</td>\n",
       "    </tr>\n",
       "    <tr>\n",
       "      <th>492</th>\n",
       "      <td>https://www.facebook.com/184884834877395/posts...</td>\n",
       "      <td>Γαλάζια σημαία:Ασημένια η Ελλάδα - Οι 545 ακτέ...</td>\n",
       "      <td>7</td>\n",
       "    </tr>\n",
       "    <tr>\n",
       "      <th>493</th>\n",
       "      <td>https://www.facebook.com/184884834877395/posts...</td>\n",
       "      <td>Χαλάει ο καιρός - Πού και πότε θα βρέξει</td>\n",
       "      <td>1</td>\n",
       "    </tr>\n",
       "    <tr>\n",
       "      <th>494</th>\n",
       "      <td>https://www.facebook.com/184884834877395/posts...</td>\n",
       "      <td>Ανησυχεί η «αθηναϊκή μετάλλαξη» – Τι λένε οι ε...</td>\n",
       "      <td>1</td>\n",
       "    </tr>\n",
       "    <tr>\n",
       "      <th>495</th>\n",
       "      <td>https://www.facebook.com/184884834877395/posts...</td>\n",
       "      <td>Πού εντοπίζονται τα 2.812 νέα κρούσματα – Δείτ...</td>\n",
       "      <td>0</td>\n",
       "    </tr>\n",
       "  </tbody>\n",
       "</table>\n",
       "<p>496 rows × 3 columns</p>\n",
       "</div>"
      ],
      "text/plain": [
       "                                                   URL  \\\n",
       "0    https://www.facebook.com/184884834877395/posts...   \n",
       "1    https://www.facebook.com/184884834877395/posts...   \n",
       "2    https://www.facebook.com/184884834877395/posts...   \n",
       "3    https://www.facebook.com/184884834877395/posts...   \n",
       "4    https://www.facebook.com/184884834877395/posts...   \n",
       "..                                                 ...   \n",
       "491  https://www.facebook.com/184884834877395/posts...   \n",
       "492  https://www.facebook.com/184884834877395/posts...   \n",
       "493  https://www.facebook.com/184884834877395/posts...   \n",
       "494  https://www.facebook.com/184884834877395/posts...   \n",
       "495  https://www.facebook.com/184884834877395/posts...   \n",
       "\n",
       "                                             Link Text  Total Interactions  \n",
       "0    Οσιαν Βουόνγκ: Ο 33χρονος ποιητής που μαγεύει ...                   0  \n",
       "1                Πώς ο ύπνος σχετίζεται με το έμφραγμα                   0  \n",
       "2            Πόσο επικίνδυνη είναι η ινδική μετάλλαξη;                   3  \n",
       "3           Μπουρλά: Ίσως εντός 2021 το χάπι για covid                   3  \n",
       "4    Χριστίνα Χειλά Φαμέλη: Σοκάρει μιλώντας για τη...                   0  \n",
       "..                                                 ...                 ...  \n",
       "491      Πού θα γίνονται δωρεάν rapid test την Τετάρτη                   0  \n",
       "492  Γαλάζια σημαία:Ασημένια η Ελλάδα - Οι 545 ακτέ...                   7  \n",
       "493           Χαλάει ο καιρός - Πού και πότε θα βρέξει                   1  \n",
       "494  Ανησυχεί η «αθηναϊκή μετάλλαξη» – Τι λένε οι ε...                   1  \n",
       "495  Πού εντοπίζονται τα 2.812 νέα κρούσματα – Δείτ...                   0  \n",
       "\n",
       "[496 rows x 3 columns]"
      ]
     },
     "execution_count": 2,
     "metadata": {},
     "output_type": "execute_result"
    }
   ],
   "source": [
    "# Load the csv file containing the posts\n",
    "# Use only \"URL\", \"Link Text\" and \"Total Interactions\" columns\n",
    "posts_df = pd.read_csv(\"Datasets/tovima/tovima.csv\",\n",
    "                       usecols=[\"URL\", \"Link Text\", \"Total Interactions\"]).head(522)[\n",
    "    [\"URL\", \"Link Text\", \"Total Interactions\"]]\n",
    "\n",
    "# Remove the \" | Ειδήσεις - νέα - Το Βήμα Online\" suffix from the \"Link Text\" column\n",
    "posts_df[\"Link Text\"] = posts_df[\"Link Text\"].apply(\n",
    "    lambda x: x[:-len(\" | Ειδήσεις - νέα - Το Βήμα Online\")] if x.endswith(\" | Ειδήσεις - νέα - Το Βήμα Online\") else x)\n",
    "\n",
    "# Drop rows with missing values values\n",
    "posts_df = posts_df.dropna().reset_index(drop=True)\n",
    "\n",
    "# Filter out rows with \"Total Interactions\" values below 0.05 quantile and above 0.95 quantile\n",
    "posts_df = posts_df.loc[(posts_df[\"Total Interactions\"] >= posts_df[\n",
    "    \"Total Interactions\"].quantile(.05)) & (posts_df[\"Total Interactions\"] <= posts_df[\n",
    "    \"Total Interactions\"].quantile(.95))].reset_index(drop=True)\n",
    "posts_df"
   ]
  },
  {
   "cell_type": "markdown",
   "id": "distinguished-trail",
   "metadata": {},
   "source": [
    "Split dataset to train and test subsets"
   ]
  },
  {
   "cell_type": "code",
   "execution_count": 3,
   "id": "dutch-carolina",
   "metadata": {},
   "outputs": [],
   "source": [
    "train_df, test_df = train_test_split(posts_df, test_size=0.25, random_state=42)"
   ]
  },
  {
   "cell_type": "markdown",
   "id": "latin-interest",
   "metadata": {},
   "source": [
    "Tf-Idf vectorizer"
   ]
  },
  {
   "cell_type": "code",
   "execution_count": 4,
   "id": "aboriginal-producer",
   "metadata": {},
   "outputs": [],
   "source": [
    "# https://scikit-learn.org/stable/modules/generated/sklearn.feature_extraction.text.TfidfVectorizer.html\n",
    "# Remove greek stopwords using spaCy\n",
    "vec = TfidfVectorizer(stop_words=spacy.lang.el.stop_words.STOP_WORDS)\n",
    "\n",
    "train_x = vec.fit_transform(train_df[\"Link Text\"])\n",
    "train_x = pd.DataFrame(train_x.toarray(), columns=vec.get_feature_names())\n",
    "\n",
    "test_x = vec.transform(test_df[\"Link Text\"])\n",
    "test_x = pd.DataFrame(test_x.toarray(), columns=vec.get_feature_names())"
   ]
  },
  {
   "cell_type": "markdown",
   "id": "controlling-denver",
   "metadata": {},
   "source": [
    "Regression problem"
   ]
  },
  {
   "cell_type": "code",
   "execution_count": 5,
   "id": "expensive-palestinian",
   "metadata": {},
   "outputs": [
    {
     "data": {
      "image/png": "[encoded data removed]",
      "text/plain": [
       "<Figure size 1008x504 with 1 Axes>"
      ]
     },
     "metadata": {
      "needs_background": "light"
     },
     "output_type": "display_data"
    }
   ],
   "source": [
    "train_y = train_df[\"Total Interactions\"]\n",
    "test_y = test_df[\"Total Interactions\"]\n",
    "\n",
    "# Plot how the column we will be predicting looks like\n",
    "train_df[\"Total Interactions\"].hist(figsize=(14, 7), bins=50)\n",
    "plt.show()"
   ]
  },
  {
   "cell_type": "code",
   "execution_count": 6,
   "id": "combined-officer",
   "metadata": {},
   "outputs": [
    {
     "name": "stdout",
     "output_type": "stream",
     "text": [
      "r2_score: -2.047866919765401e+25\n",
      "MAE: 10190352452767.178\n",
      "MSE: 3.410239156301058e+26\n"
     ]
    }
   ],
   "source": [
    "# Train and test the LinearRegression model\n",
    "lin_reg = LinearRegression().fit(train_x, train_y)\n",
    "pred_y = lin_reg.predict(test_x)\n",
    "\n",
    "print('r2_score:', metrics.r2_score(test_y, pred_y))\n",
    "print('MAE:', metrics.mean_absolute_error(test_y, pred_y))\n",
    "print('MSE:', metrics.mean_squared_error(test_y, pred_y))"
   ]
  },
  {
   "cell_type": "code",
   "execution_count": 7,
   "id": "danish-wichita",
   "metadata": {},
   "outputs": [
    {
     "name": "stdout",
     "output_type": "stream",
     "text": [
      "r2_score: -0.37887655193691905\n",
      "MAE: 3.929032258064516\n",
      "MSE: 22.96193548387097\n"
     ]
    }
   ],
   "source": [
    "# Train and test the KNeighborsRegressor model\n",
    "kn_reg = KNeighborsRegressor().fit(train_x, train_y)\n",
    "pred_y = kn_reg.predict(test_x)\n",
    "\n",
    "print('r2_score:', metrics.r2_score(test_y, pred_y))\n",
    "print('MAE:', metrics.mean_absolute_error(test_y, pred_y))\n",
    "print('MSE:', metrics.mean_squared_error(test_y, pred_y))"
   ]
  },
  {
   "cell_type": "code",
   "execution_count": 8,
   "id": "stock-australia",
   "metadata": {},
   "outputs": [
    {
     "name": "stdout",
     "output_type": "stream",
     "text": [
      "r2_score: -0.4123069769022729\n",
      "MAE: 3.7363607910906302\n",
      "MSE: 23.5186403318681\n"
     ]
    }
   ],
   "source": [
    "# Train and test the RandomForestRegressor model\n",
    "rf_reg = RandomForestRegressor(n_estimators=200).fit(train_x, train_y)\n",
    "pred_y = rf_reg.predict(test_x)\n",
    "\n",
    "print('r2_score:', metrics.r2_score(test_y, pred_y))\n",
    "print('MAE:', metrics.mean_absolute_error(test_y, pred_y))\n",
    "print('MSE:', metrics.mean_squared_error(test_y, pred_y))"
   ]
  },
  {
   "cell_type": "code",
   "execution_count": 9,
   "id": "noticed-closing",
   "metadata": {},
   "outputs": [
    {
     "data": {
      "text/plain": [
       "ελλάδα            0.030757\n",
       "εμβολιασμένους    0.025606\n",
       "στεφανιαία        0.025561\n",
       "νόσο              0.022252\n",
       "ασύλου            0.021509\n",
       "                    ...   \n",
       "προχωρούν         0.000000\n",
       "αντισώματα        0.000000\n",
       "πραγματικότητα    0.000000\n",
       "πραγμάτων         0.000000\n",
       "αυστρία           0.000000\n",
       "Length: 1241, dtype: float64"
      ]
     },
     "execution_count": 9,
     "metadata": {},
     "output_type": "execute_result"
    }
   ],
   "source": [
    "# Show features importances\n",
    "important_features = pd.Series(data=rf_reg.feature_importances_, index=train_x.columns)\n",
    "important_features.sort_values(ascending=False, inplace=True)\n",
    "important_features.astype(float)"
   ]
  },
  {
   "cell_type": "markdown",
   "id": "peripheral-porter",
   "metadata": {},
   "source": [
    "Classification problem"
   ]
  },
  {
   "cell_type": "code",
   "execution_count": 10,
   "id": "complimentary-payday",
   "metadata": {},
   "outputs": [
    {
     "data": {
      "image/png": "[encoded data removed]",
      "text/plain": [
       "<Figure size 432x288 with 1 Axes>"
      ]
     },
     "metadata": {
      "needs_background": "light"
     },
     "output_type": "display_data"
    }
   ],
   "source": [
    "# For classification, we consider 2 categories:\n",
    "#   -Class 0: posts with \"Total Interactions\" below the column's median\n",
    "#   -Class 1: posts with \"Total Interactions\" above the column's median\n",
    "\n",
    "median = train_df[\"Total Interactions\"].median()\n",
    "\n",
    "train_y = train_df[\"Total Interactions\"].apply(lambda x: int(x > median))\n",
    "test_y = test_df[\"Total Interactions\"].apply(lambda x: int(x > median))\n",
    "\n",
    "# Plot how the column we will be predicting looks like\n",
    "train_df[\"Total Interactions\"].apply(\n",
    "    lambda x: int(x > median)).value_counts().sort_values().plot(kind = 'barh')\n",
    "plt.show()"
   ]
  },
  {
   "cell_type": "code",
   "execution_count": 11,
   "id": "stuffed-hospital",
   "metadata": {},
   "outputs": [
    {
     "name": "stdout",
     "output_type": "stream",
     "text": [
      "accuracy: 0.47580645161290325\n",
      "classification_report:\n",
      "               precision    recall  f1-score   support\n",
      "\n",
      "           0       0.48      0.65      0.55        62\n",
      "           1       0.46      0.31      0.37        62\n",
      "\n",
      "    accuracy                           0.48       124\n",
      "   macro avg       0.47      0.48      0.46       124\n",
      "weighted avg       0.47      0.48      0.46       124\n",
      "\n"
     ]
    }
   ],
   "source": [
    "# Train and test the LogisticRegression model\n",
    "lr_clf = LogisticRegression(solver='lbfgs').fit(train_x, train_y)\n",
    "pred_y = lr_clf.predict(test_x)\n",
    "\n",
    "print('accuracy:', metrics.accuracy_score(test_y, pred_y))\n",
    "print('classification_report:\\n', metrics.classification_report(test_y, pred_y))"
   ]
  },
  {
   "cell_type": "code",
   "execution_count": 12,
   "id": "foreign-handling",
   "metadata": {},
   "outputs": [
    {
     "name": "stdout",
     "output_type": "stream",
     "text": [
      "accuracy: 0.47580645161290325\n",
      "classification_report:\n",
      "               precision    recall  f1-score   support\n",
      "\n",
      "           0       0.41      0.11      0.18        62\n",
      "           1       0.49      0.84      0.62        62\n",
      "\n",
      "    accuracy                           0.48       124\n",
      "   macro avg       0.45      0.48      0.40       124\n",
      "weighted avg       0.45      0.48      0.40       124\n",
      "\n"
     ]
    }
   ],
   "source": [
    "# Train and test the KNeighborsClassifier model\n",
    "kn_clf = KNeighborsClassifier().fit(train_x, train_y)\n",
    "pred_y = kn_clf.predict(test_x)\n",
    "\n",
    "print('accuracy:', metrics.accuracy_score(test_y, pred_y))\n",
    "print('classification_report:\\n', metrics.classification_report(test_y, pred_y))"
   ]
  },
  {
   "cell_type": "code",
   "execution_count": 13,
   "id": "spectacular-defense",
   "metadata": {},
   "outputs": [
    {
     "name": "stdout",
     "output_type": "stream",
     "text": [
      "accuracy: 0.4274193548387097\n",
      "classification_report:\n",
      "               precision    recall  f1-score   support\n",
      "\n",
      "           0       0.42      0.35      0.38        62\n",
      "           1       0.44      0.50      0.47        62\n",
      "\n",
      "    accuracy                           0.43       124\n",
      "   macro avg       0.43      0.43      0.42       124\n",
      "weighted avg       0.43      0.43      0.42       124\n",
      "\n"
     ]
    }
   ],
   "source": [
    "# Train and test the RandomForestClassifier model\n",
    "rf_clf = RandomForestClassifier(n_estimators=200).fit(train_x, train_y)\n",
    "pred_y = rf_clf.predict(test_x)\n",
    "\n",
    "print('accuracy:', metrics.accuracy_score(test_y, pred_y))\n",
    "print('classification_report:\\n', metrics.classification_report(test_y, pred_y))"
   ]
  },
  {
   "cell_type": "code",
   "execution_count": 14,
   "id": "facial-individual",
   "metadata": {},
   "outputs": [
    {
     "data": {
      "text/plain": [
       "νέα          1.877880e-02\n",
       "online       1.845210e-02\n",
       "βήμα         1.697819e-02\n",
       "ειδήσεις     1.689430e-02\n",
       "κρούσματα    9.193865e-03\n",
       "                 ...     \n",
       "76           1.184678e-06\n",
       "μάρκετ       9.002507e-07\n",
       "δρόμο        8.412074e-07\n",
       "188          4.516978e-07\n",
       "γέμισαν      0.000000e+00\n",
       "Length: 1241, dtype: float64"
      ]
     },
     "execution_count": 14,
     "metadata": {},
     "output_type": "execute_result"
    }
   ],
   "source": [
    "# Show features importances\n",
    "important_features = pd.Series(data=rf_clf.feature_importances_, index=train_x.columns)\n",
    "important_features.sort_values(ascending=False, inplace=True)\n",
    "important_features.astype(float)"
   ]
  },
  {
   "cell_type": "code",
   "execution_count": null,
   "id": "supported-dover",
   "metadata": {},
   "outputs": [],
   "source": []
  }
 ],
 "metadata": {
  "kernelspec": {
   "display_name": "env",
   "language": "python",
   "name": "env"
  },
  "language_info": {
   "codemirror_mode": {
    "name": "ipython",
    "version": 3
   },
   "file_extension": ".py",
   "mimetype": "text/x-python",
   "name": "python",
   "nbconvert_exporter": "python",
   "pygments_lexer": "ipython3",
   "version": "3.6.9"
  }
 },
 "nbformat": 4,
 "nbformat_minor": 5
}
